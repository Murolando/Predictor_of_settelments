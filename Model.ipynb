{
  "nbformat": 4,
  "nbformat_minor": 0,
  "metadata": {
    "colab": {
      "name": "Model.ipynb",
      "provenance": [],
      "collapsed_sections": [],
      "mount_file_id": "19an1p-q_StZbv6uPgV2enGQ8kgVXWgc7",
      "authorship_tag": "ABX9TyNfqsn6tJb+8Eu6vjR0uGbK",
      "include_colab_link": true
    },
    "kernelspec": {
      "name": "python3",
      "display_name": "Python 3"
    },
    "language_info": {
      "name": "python"
    }
  },
  "cells": [
    {
      "cell_type": "markdown",
      "metadata": {
        "id": "view-in-github",
        "colab_type": "text"
      },
      "source": [
        "<a href=\"https://colab.research.google.com/github/Murolando/Predictor_of_settelments/blob/main/Model.ipynb\" target=\"_parent\"><img src=\"https://colab.research.google.com/assets/colab-badge.svg\" alt=\"Open In Colab\"/></a>"
      ]
    },
    {
      "cell_type": "markdown",
      "source": [
        "# Предсказатель названия населенного пункта/ Predictor of the name of settlement\n",
        "\n",
        "#### Идея проекта в том, чтобы сделать систему, которая при получении на вход название населенного пункта с ошибками, находила наиболее подходящий и возвращала его точное наименование \n",
        "\n",
        "\n",
        "---\n",
        "#### The idea of the project is to make a system that, when receiving the name of a settlement with errors, found the most suitable one and returned its exact name\n",
        "\n"
      ],
      "metadata": {
        "id": "6SE5TVC_jvzT"
      }
    },
    {
      "cell_type": "code",
      "execution_count": 80,
      "metadata": {
        "id": "qYhwKtaWc-6k"
      },
      "outputs": [],
      "source": [
        "import pandas as pd\n",
        "import numpy as np\n",
        "import seaborn as sns\n",
        "import matplotlib.pyplot as plt\n",
        "import re \n",
        "from collections import Counter"
      ]
    },
    {
      "cell_type": "markdown",
      "source": [
        "## Информация о данных / Structure of data"
      ],
      "metadata": {
        "id": "VBDl0gJPjXd9"
      }
    },
    {
      "cell_type": "code",
      "source": [
        "struc = pd.read_csv('/content/drive/MyDrive/ML Pr/Regions Of RF/structure.csv')"
      ],
      "metadata": {
        "id": "ZT4-ovh8jBXe"
      },
      "execution_count": 81,
      "outputs": []
    },
    {
      "cell_type": "code",
      "source": [
        "#print(struc)"
      ],
      "metadata": {
        "id": "lH-xTMwrjJt2"
      },
      "execution_count": 82,
      "outputs": []
    },
    {
      "cell_type": "markdown",
      "source": [
        "## Основная часть / Main Part"
      ],
      "metadata": {
        "id": "FhQaXOk6jeTT"
      }
    },
    {
      "cell_type": "code",
      "source": [
        "df = pd.read_csv('/content/drive/MyDrive/ML Pr/Regions Of RF/data.csv')"
      ],
      "metadata": {
        "id": "odNKgwsYdQD2"
      },
      "execution_count": 83,
      "outputs": []
    },
    {
      "cell_type": "code",
      "source": [
        "df.head(5)"
      ],
      "metadata": {
        "colab": {
          "base_uri": "https://localhost:8080/",
          "height": 374
        },
        "id": "tnZl3F7yeEe-",
        "outputId": "e6fe5c14-58cb-4a8e-cc69-5d26eade7411"
      },
      "execution_count": 84,
      "outputs": [
        {
          "output_type": "execute_result",
          "data": {
            "text/plain": [
              "   id             region           municipality  settlement type  population  \\\n",
              "0   0  Орловская область             Болховский  Колонтаева    д           0   \n",
              "1   1    Республика Крым                 Алушта     Пушкино    с         273   \n",
              "2   2   Липецкая область  Лев-Толстовский район    Барятино    с           7   \n",
              "3   3   Тверская область    Селижаровский район      Хилово    д           2   \n",
              "4   4    Томская область     Парабельский район   Басмасово    д           6   \n",
              "\n",
              "   children latitude_dms longitude_dms  latitude_dd  longitude_dd  \\\n",
              "0         0     53.22.07     035.54.36    53.368611     35.910000   \n",
              "1         0     44.35.45     034.20.27    44.595833     34.340833   \n",
              "2         1     53.15.46     039.30.14    53.262778     39.503889   \n",
              "3         0     56.54.20     033.25.09    56.905556     33.419167   \n",
              "4         0     58.38.12     082.02.40    58.636667     82.044444   \n",
              "\n",
              "          oktmo  dadata  rosstat  \n",
              "0  5.460442e+10       0        1  \n",
              "1  3.570300e+10       0        1  \n",
              "2  4.263641e+10       0        1  \n",
              "3  2.865043e+10       0        1  \n",
              "4  6.964444e+10       0        1  "
            ],
            "text/html": [
              "\n",
              "  <div id=\"df-229dd5b3-58ff-40f2-9817-3e4739e096da\">\n",
              "    <div class=\"colab-df-container\">\n",
              "      <div>\n",
              "<style scoped>\n",
              "    .dataframe tbody tr th:only-of-type {\n",
              "        vertical-align: middle;\n",
              "    }\n",
              "\n",
              "    .dataframe tbody tr th {\n",
              "        vertical-align: top;\n",
              "    }\n",
              "\n",
              "    .dataframe thead th {\n",
              "        text-align: right;\n",
              "    }\n",
              "</style>\n",
              "<table border=\"1\" class=\"dataframe\">\n",
              "  <thead>\n",
              "    <tr style=\"text-align: right;\">\n",
              "      <th></th>\n",
              "      <th>id</th>\n",
              "      <th>region</th>\n",
              "      <th>municipality</th>\n",
              "      <th>settlement</th>\n",
              "      <th>type</th>\n",
              "      <th>population</th>\n",
              "      <th>children</th>\n",
              "      <th>latitude_dms</th>\n",
              "      <th>longitude_dms</th>\n",
              "      <th>latitude_dd</th>\n",
              "      <th>longitude_dd</th>\n",
              "      <th>oktmo</th>\n",
              "      <th>dadata</th>\n",
              "      <th>rosstat</th>\n",
              "    </tr>\n",
              "  </thead>\n",
              "  <tbody>\n",
              "    <tr>\n",
              "      <th>0</th>\n",
              "      <td>0</td>\n",
              "      <td>Орловская область</td>\n",
              "      <td>Болховский</td>\n",
              "      <td>Колонтаева</td>\n",
              "      <td>д</td>\n",
              "      <td>0</td>\n",
              "      <td>0</td>\n",
              "      <td>53.22.07</td>\n",
              "      <td>035.54.36</td>\n",
              "      <td>53.368611</td>\n",
              "      <td>35.910000</td>\n",
              "      <td>5.460442e+10</td>\n",
              "      <td>0</td>\n",
              "      <td>1</td>\n",
              "    </tr>\n",
              "    <tr>\n",
              "      <th>1</th>\n",
              "      <td>1</td>\n",
              "      <td>Республика Крым</td>\n",
              "      <td>Алушта</td>\n",
              "      <td>Пушкино</td>\n",
              "      <td>с</td>\n",
              "      <td>273</td>\n",
              "      <td>0</td>\n",
              "      <td>44.35.45</td>\n",
              "      <td>034.20.27</td>\n",
              "      <td>44.595833</td>\n",
              "      <td>34.340833</td>\n",
              "      <td>3.570300e+10</td>\n",
              "      <td>0</td>\n",
              "      <td>1</td>\n",
              "    </tr>\n",
              "    <tr>\n",
              "      <th>2</th>\n",
              "      <td>2</td>\n",
              "      <td>Липецкая область</td>\n",
              "      <td>Лев-Толстовский район</td>\n",
              "      <td>Барятино</td>\n",
              "      <td>с</td>\n",
              "      <td>7</td>\n",
              "      <td>1</td>\n",
              "      <td>53.15.46</td>\n",
              "      <td>039.30.14</td>\n",
              "      <td>53.262778</td>\n",
              "      <td>39.503889</td>\n",
              "      <td>4.263641e+10</td>\n",
              "      <td>0</td>\n",
              "      <td>1</td>\n",
              "    </tr>\n",
              "    <tr>\n",
              "      <th>3</th>\n",
              "      <td>3</td>\n",
              "      <td>Тверская область</td>\n",
              "      <td>Селижаровский район</td>\n",
              "      <td>Хилово</td>\n",
              "      <td>д</td>\n",
              "      <td>2</td>\n",
              "      <td>0</td>\n",
              "      <td>56.54.20</td>\n",
              "      <td>033.25.09</td>\n",
              "      <td>56.905556</td>\n",
              "      <td>33.419167</td>\n",
              "      <td>2.865043e+10</td>\n",
              "      <td>0</td>\n",
              "      <td>1</td>\n",
              "    </tr>\n",
              "    <tr>\n",
              "      <th>4</th>\n",
              "      <td>4</td>\n",
              "      <td>Томская область</td>\n",
              "      <td>Парабельский район</td>\n",
              "      <td>Басмасово</td>\n",
              "      <td>д</td>\n",
              "      <td>6</td>\n",
              "      <td>0</td>\n",
              "      <td>58.38.12</td>\n",
              "      <td>082.02.40</td>\n",
              "      <td>58.636667</td>\n",
              "      <td>82.044444</td>\n",
              "      <td>6.964444e+10</td>\n",
              "      <td>0</td>\n",
              "      <td>1</td>\n",
              "    </tr>\n",
              "  </tbody>\n",
              "</table>\n",
              "</div>\n",
              "      <button class=\"colab-df-convert\" onclick=\"convertToInteractive('df-229dd5b3-58ff-40f2-9817-3e4739e096da')\"\n",
              "              title=\"Convert this dataframe to an interactive table.\"\n",
              "              style=\"display:none;\">\n",
              "        \n",
              "  <svg xmlns=\"http://www.w3.org/2000/svg\" height=\"24px\"viewBox=\"0 0 24 24\"\n",
              "       width=\"24px\">\n",
              "    <path d=\"M0 0h24v24H0V0z\" fill=\"none\"/>\n",
              "    <path d=\"M18.56 5.44l.94 2.06.94-2.06 2.06-.94-2.06-.94-.94-2.06-.94 2.06-2.06.94zm-11 1L8.5 8.5l.94-2.06 2.06-.94-2.06-.94L8.5 2.5l-.94 2.06-2.06.94zm10 10l.94 2.06.94-2.06 2.06-.94-2.06-.94-.94-2.06-.94 2.06-2.06.94z\"/><path d=\"M17.41 7.96l-1.37-1.37c-.4-.4-.92-.59-1.43-.59-.52 0-1.04.2-1.43.59L10.3 9.45l-7.72 7.72c-.78.78-.78 2.05 0 2.83L4 21.41c.39.39.9.59 1.41.59.51 0 1.02-.2 1.41-.59l7.78-7.78 2.81-2.81c.8-.78.8-2.07 0-2.86zM5.41 20L4 18.59l7.72-7.72 1.47 1.35L5.41 20z\"/>\n",
              "  </svg>\n",
              "      </button>\n",
              "      \n",
              "  <style>\n",
              "    .colab-df-container {\n",
              "      display:flex;\n",
              "      flex-wrap:wrap;\n",
              "      gap: 12px;\n",
              "    }\n",
              "\n",
              "    .colab-df-convert {\n",
              "      background-color: #E8F0FE;\n",
              "      border: none;\n",
              "      border-radius: 50%;\n",
              "      cursor: pointer;\n",
              "      display: none;\n",
              "      fill: #1967D2;\n",
              "      height: 32px;\n",
              "      padding: 0 0 0 0;\n",
              "      width: 32px;\n",
              "    }\n",
              "\n",
              "    .colab-df-convert:hover {\n",
              "      background-color: #E2EBFA;\n",
              "      box-shadow: 0px 1px 2px rgba(60, 64, 67, 0.3), 0px 1px 3px 1px rgba(60, 64, 67, 0.15);\n",
              "      fill: #174EA6;\n",
              "    }\n",
              "\n",
              "    [theme=dark] .colab-df-convert {\n",
              "      background-color: #3B4455;\n",
              "      fill: #D2E3FC;\n",
              "    }\n",
              "\n",
              "    [theme=dark] .colab-df-convert:hover {\n",
              "      background-color: #434B5C;\n",
              "      box-shadow: 0px 1px 3px 1px rgba(0, 0, 0, 0.15);\n",
              "      filter: drop-shadow(0px 1px 2px rgba(0, 0, 0, 0.3));\n",
              "      fill: #FFFFFF;\n",
              "    }\n",
              "  </style>\n",
              "\n",
              "      <script>\n",
              "        const buttonEl =\n",
              "          document.querySelector('#df-229dd5b3-58ff-40f2-9817-3e4739e096da button.colab-df-convert');\n",
              "        buttonEl.style.display =\n",
              "          google.colab.kernel.accessAllowed ? 'block' : 'none';\n",
              "\n",
              "        async function convertToInteractive(key) {\n",
              "          const element = document.querySelector('#df-229dd5b3-58ff-40f2-9817-3e4739e096da');\n",
              "          const dataTable =\n",
              "            await google.colab.kernel.invokeFunction('convertToInteractive',\n",
              "                                                     [key], {});\n",
              "          if (!dataTable) return;\n",
              "\n",
              "          const docLinkHtml = 'Like what you see? Visit the ' +\n",
              "            '<a target=\"_blank\" href=https://colab.research.google.com/notebooks/data_table.ipynb>data table notebook</a>'\n",
              "            + ' to learn more about interactive tables.';\n",
              "          element.innerHTML = '';\n",
              "          dataTable['output_type'] = 'display_data';\n",
              "          await google.colab.output.renderOutput(dataTable, element);\n",
              "          const docLink = document.createElement('div');\n",
              "          docLink.innerHTML = docLinkHtml;\n",
              "          element.appendChild(docLink);\n",
              "        }\n",
              "      </script>\n",
              "    </div>\n",
              "  </div>\n",
              "  "
            ]
          },
          "metadata": {},
          "execution_count": 84
        }
      ]
    },
    {
      "cell_type": "code",
      "source": [
        "df.info()"
      ],
      "metadata": {
        "colab": {
          "base_uri": "https://localhost:8080/"
        },
        "id": "12hrj70TeM1D",
        "outputId": "9e3466f1-6d8b-4664-e486-58913ace48a5"
      },
      "execution_count": 85,
      "outputs": [
        {
          "output_type": "stream",
          "name": "stdout",
          "text": [
            "<class 'pandas.core.frame.DataFrame'>\n",
            "RangeIndex: 155921 entries, 0 to 155920\n",
            "Data columns (total 14 columns):\n",
            " #   Column         Non-Null Count   Dtype  \n",
            "---  ------         --------------   -----  \n",
            " 0   id             155921 non-null  int64  \n",
            " 1   region         155921 non-null  object \n",
            " 2   municipality   155921 non-null  object \n",
            " 3   settlement     155921 non-null  object \n",
            " 4   type           155921 non-null  object \n",
            " 5   population     155921 non-null  int64  \n",
            " 6   children       155921 non-null  int64  \n",
            " 7   latitude_dms   155921 non-null  object \n",
            " 8   longitude_dms  155921 non-null  object \n",
            " 9   latitude_dd    155921 non-null  float64\n",
            " 10  longitude_dd   155921 non-null  float64\n",
            " 11  oktmo          155920 non-null  float64\n",
            " 12  dadata         155921 non-null  int64  \n",
            " 13  rosstat        155921 non-null  int64  \n",
            "dtypes: float64(3), int64(5), object(6)\n",
            "memory usage: 16.7+ MB\n"
          ]
        }
      ]
    },
    {
      "cell_type": "markdown",
      "source": [
        "### Модель будет пытаться ловить следующие ошибки:\n",
        "\n",
        "▶ Вы допустили ошибку в названии населенного пункта\n",
        "\n",
        "▶ Вы использовали лишние пробелы, забыли пробелы, неиспользовали тире, использовали лишние тире, использовали разные регистр и т.д\n",
        "\n",
        "За основу я взял идею bag-of-words, однако вместо количества встречайний названия населенного пункта(далее нп), я буду использовать количество его населения, конечно в этой идеии есть и свои проблемы - множество туристически популярных городов, имеют небольшое население. По хорошему, мне стоило пробить каждый населеный пункт через word stat, но может быть как нибудь потом :D\n",
        "\n",
        "Сначала оставим нужные нам столбцы"
      ],
      "metadata": {
        "id": "hwzFHK7Kn08E"
      }
    },
    {
      "cell_type": "code",
      "source": [
        "df_settlements = df[['settlement','type','population']]"
      ],
      "metadata": {
        "id": "Qh8pZi1RmBWh"
      },
      "execution_count": 86,
      "outputs": []
    },
    {
      "cell_type": "markdown",
      "source": [
        "Давайте посмотрим на данные "
      ],
      "metadata": {
        "id": "tuDoZERqoR4W"
      }
    },
    {
      "cell_type": "code",
      "source": [
        "df_settlements['population'].value_counts()"
      ],
      "metadata": {
        "colab": {
          "base_uri": "https://localhost:8080/"
        },
        "id": "Kt87_kAGnyL5",
        "outputId": "08e818bf-2e73-45ad-e103-2b6e10fed963"
      },
      "execution_count": 87,
      "outputs": [
        {
          "output_type": "execute_result",
          "data": {
            "text/plain": [
              "0        23441\n",
              "1         6558\n",
              "2         5867\n",
              "3         4632\n",
              "4         3904\n",
              "         ...  \n",
              "3902         1\n",
              "14600        1\n",
              "5348         1\n",
              "38561        1\n",
              "12566        1\n",
              "Name: population, Length: 6172, dtype: int64"
            ]
          },
          "metadata": {},
          "execution_count": 87
        }
      ]
    },
    {
      "cell_type": "markdown",
      "source": [
        "Как мы видим тут есть кучу записей, где количество жителей равно 0, давайте избавимся от них, т.к они не несут никакой полезной нагрузки "
      ],
      "metadata": {
        "id": "xQ2A1B6WocT2"
      }
    },
    {
      "cell_type": "code",
      "source": [
        "df_settlements = df_settlements[df_settlements['population']!=0]"
      ],
      "metadata": {
        "id": "JRSSvhsroabM"
      },
      "execution_count": 88,
      "outputs": []
    },
    {
      "cell_type": "code",
      "source": [
        "df_settlements['settlement'].value_counts()"
      ],
      "metadata": {
        "colab": {
          "base_uri": "https://localhost:8080/"
        },
        "id": "qEoP0VLnuMcK",
        "outputId": "287c0d01-16b1-472d-c794-61f3da8c7646"
      },
      "execution_count": 89,
      "outputs": [
        {
          "output_type": "execute_result",
          "data": {
            "text/plain": [
              "Александровка    287\n",
              "Ивановка         245\n",
              "Михайловка       236\n",
              "Никольское       210\n",
              "Николаевка       202\n",
              "                ... \n",
              "Пархачевская       1\n",
              "Метеоритный        1\n",
              "Порицы             1\n",
              "Житново            1\n",
              "Гостагаевская      1\n",
              "Name: settlement, Length: 71708, dtype: int64"
            ]
          },
          "metadata": {},
          "execution_count": 89
        }
      ]
    },
    {
      "cell_type": "code",
      "source": [
        "df_settlements.head()"
      ],
      "metadata": {
        "colab": {
          "base_uri": "https://localhost:8080/",
          "height": 206
        },
        "id": "k0ZzoW8TucIl",
        "outputId": "7ef32cb3-496e-4378-e79d-88bf590e7ab5"
      },
      "execution_count": 90,
      "outputs": [
        {
          "output_type": "execute_result",
          "data": {
            "text/plain": [
              "  settlement type  population\n",
              "1    Пушкино    с         273\n",
              "2   Барятино    с           7\n",
              "3     Хилово    д           2\n",
              "4  Басмасово    д           6\n",
              "5      Каспа    с         375"
            ],
            "text/html": [
              "\n",
              "  <div id=\"df-86f80a3d-c2cb-46a3-aca3-4df18b1744ce\">\n",
              "    <div class=\"colab-df-container\">\n",
              "      <div>\n",
              "<style scoped>\n",
              "    .dataframe tbody tr th:only-of-type {\n",
              "        vertical-align: middle;\n",
              "    }\n",
              "\n",
              "    .dataframe tbody tr th {\n",
              "        vertical-align: top;\n",
              "    }\n",
              "\n",
              "    .dataframe thead th {\n",
              "        text-align: right;\n",
              "    }\n",
              "</style>\n",
              "<table border=\"1\" class=\"dataframe\">\n",
              "  <thead>\n",
              "    <tr style=\"text-align: right;\">\n",
              "      <th></th>\n",
              "      <th>settlement</th>\n",
              "      <th>type</th>\n",
              "      <th>population</th>\n",
              "    </tr>\n",
              "  </thead>\n",
              "  <tbody>\n",
              "    <tr>\n",
              "      <th>1</th>\n",
              "      <td>Пушкино</td>\n",
              "      <td>с</td>\n",
              "      <td>273</td>\n",
              "    </tr>\n",
              "    <tr>\n",
              "      <th>2</th>\n",
              "      <td>Барятино</td>\n",
              "      <td>с</td>\n",
              "      <td>7</td>\n",
              "    </tr>\n",
              "    <tr>\n",
              "      <th>3</th>\n",
              "      <td>Хилово</td>\n",
              "      <td>д</td>\n",
              "      <td>2</td>\n",
              "    </tr>\n",
              "    <tr>\n",
              "      <th>4</th>\n",
              "      <td>Басмасово</td>\n",
              "      <td>д</td>\n",
              "      <td>6</td>\n",
              "    </tr>\n",
              "    <tr>\n",
              "      <th>5</th>\n",
              "      <td>Каспа</td>\n",
              "      <td>с</td>\n",
              "      <td>375</td>\n",
              "    </tr>\n",
              "  </tbody>\n",
              "</table>\n",
              "</div>\n",
              "      <button class=\"colab-df-convert\" onclick=\"convertToInteractive('df-86f80a3d-c2cb-46a3-aca3-4df18b1744ce')\"\n",
              "              title=\"Convert this dataframe to an interactive table.\"\n",
              "              style=\"display:none;\">\n",
              "        \n",
              "  <svg xmlns=\"http://www.w3.org/2000/svg\" height=\"24px\"viewBox=\"0 0 24 24\"\n",
              "       width=\"24px\">\n",
              "    <path d=\"M0 0h24v24H0V0z\" fill=\"none\"/>\n",
              "    <path d=\"M18.56 5.44l.94 2.06.94-2.06 2.06-.94-2.06-.94-.94-2.06-.94 2.06-2.06.94zm-11 1L8.5 8.5l.94-2.06 2.06-.94-2.06-.94L8.5 2.5l-.94 2.06-2.06.94zm10 10l.94 2.06.94-2.06 2.06-.94-2.06-.94-.94-2.06-.94 2.06-2.06.94z\"/><path d=\"M17.41 7.96l-1.37-1.37c-.4-.4-.92-.59-1.43-.59-.52 0-1.04.2-1.43.59L10.3 9.45l-7.72 7.72c-.78.78-.78 2.05 0 2.83L4 21.41c.39.39.9.59 1.41.59.51 0 1.02-.2 1.41-.59l7.78-7.78 2.81-2.81c.8-.78.8-2.07 0-2.86zM5.41 20L4 18.59l7.72-7.72 1.47 1.35L5.41 20z\"/>\n",
              "  </svg>\n",
              "      </button>\n",
              "      \n",
              "  <style>\n",
              "    .colab-df-container {\n",
              "      display:flex;\n",
              "      flex-wrap:wrap;\n",
              "      gap: 12px;\n",
              "    }\n",
              "\n",
              "    .colab-df-convert {\n",
              "      background-color: #E8F0FE;\n",
              "      border: none;\n",
              "      border-radius: 50%;\n",
              "      cursor: pointer;\n",
              "      display: none;\n",
              "      fill: #1967D2;\n",
              "      height: 32px;\n",
              "      padding: 0 0 0 0;\n",
              "      width: 32px;\n",
              "    }\n",
              "\n",
              "    .colab-df-convert:hover {\n",
              "      background-color: #E2EBFA;\n",
              "      box-shadow: 0px 1px 2px rgba(60, 64, 67, 0.3), 0px 1px 3px 1px rgba(60, 64, 67, 0.15);\n",
              "      fill: #174EA6;\n",
              "    }\n",
              "\n",
              "    [theme=dark] .colab-df-convert {\n",
              "      background-color: #3B4455;\n",
              "      fill: #D2E3FC;\n",
              "    }\n",
              "\n",
              "    [theme=dark] .colab-df-convert:hover {\n",
              "      background-color: #434B5C;\n",
              "      box-shadow: 0px 1px 3px 1px rgba(0, 0, 0, 0.15);\n",
              "      filter: drop-shadow(0px 1px 2px rgba(0, 0, 0, 0.3));\n",
              "      fill: #FFFFFF;\n",
              "    }\n",
              "  </style>\n",
              "\n",
              "      <script>\n",
              "        const buttonEl =\n",
              "          document.querySelector('#df-86f80a3d-c2cb-46a3-aca3-4df18b1744ce button.colab-df-convert');\n",
              "        buttonEl.style.display =\n",
              "          google.colab.kernel.accessAllowed ? 'block' : 'none';\n",
              "\n",
              "        async function convertToInteractive(key) {\n",
              "          const element = document.querySelector('#df-86f80a3d-c2cb-46a3-aca3-4df18b1744ce');\n",
              "          const dataTable =\n",
              "            await google.colab.kernel.invokeFunction('convertToInteractive',\n",
              "                                                     [key], {});\n",
              "          if (!dataTable) return;\n",
              "\n",
              "          const docLinkHtml = 'Like what you see? Visit the ' +\n",
              "            '<a target=\"_blank\" href=https://colab.research.google.com/notebooks/data_table.ipynb>data table notebook</a>'\n",
              "            + ' to learn more about interactive tables.';\n",
              "          element.innerHTML = '';\n",
              "          dataTable['output_type'] = 'display_data';\n",
              "          await google.colab.output.renderOutput(dataTable, element);\n",
              "          const docLink = document.createElement('div');\n",
              "          docLink.innerHTML = docLinkHtml;\n",
              "          element.appendChild(docLink);\n",
              "        }\n",
              "      </script>\n",
              "    </div>\n",
              "  </div>\n",
              "  "
            ]
          },
          "metadata": {},
          "execution_count": 90
        }
      ]
    },
    {
      "cell_type": "code",
      "source": [
        "df_settlements.info()"
      ],
      "metadata": {
        "colab": {
          "base_uri": "https://localhost:8080/"
        },
        "id": "T0_9CNUPyDes",
        "outputId": "960e9576-5012-4c98-f6cb-345dcd0e097c"
      },
      "execution_count": 91,
      "outputs": [
        {
          "output_type": "stream",
          "name": "stdout",
          "text": [
            "<class 'pandas.core.frame.DataFrame'>\n",
            "Int64Index: 132480 entries, 1 to 155920\n",
            "Data columns (total 3 columns):\n",
            " #   Column      Non-Null Count   Dtype \n",
            "---  ------      --------------   ----- \n",
            " 0   settlement  132480 non-null  object\n",
            " 1   type        132480 non-null  object\n",
            " 2   population  132480 non-null  int64 \n",
            "dtypes: int64(1), object(2)\n",
            "memory usage: 4.0+ MB\n"
          ]
        }
      ]
    },
    {
      "cell_type": "markdown",
      "source": [
        "#### Давайте добавим функцию которая будет приводить название нашего пункта к универсальному виду, но сначала приведем исходные данные к нужному нам виду\n",
        "\n",
        "1) Приведем все к одному регистру"
      ],
      "metadata": {
        "id": "04Mq6D8ZlszH"
      }
    },
    {
      "cell_type": "code",
      "source": [
        "df_settlements['settlement'] = df_settlements['settlement'].str.lower()"
      ],
      "metadata": {
        "id": "tMJe4UrztM6i"
      },
      "execution_count": 92,
      "outputs": []
    },
    {
      "cell_type": "markdown",
      "source": [
        "2) Уберем все пробелы,тире и числа = Оставим только буквы на русском "
      ],
      "metadata": {
        "id": "dT3vxO5Rtkqr"
      }
    },
    {
      "cell_type": "code",
      "source": [
        "df_settlements['settlement'] = df_settlements['settlement'].str.replace(r\"[^а-я]\", \"\", regex=True)"
      ],
      "metadata": {
        "id": "NFmcEy4R9ovF"
      },
      "execution_count": 93,
      "outputs": []
    },
    {
      "cell_type": "code",
      "source": [
        "df_settlements = df_settlements[df_settlements['settlement']!='']"
      ],
      "metadata": {
        "id": "UOJC2M4JFYc5"
      },
      "execution_count": 94,
      "outputs": []
    },
    {
      "cell_type": "code",
      "source": [
        "# Функция которая возвращает универсальное название нп\n",
        "def universal(name_of_settlement):\n",
        "  name_of_settlement = name_of_settlement.lower()\n",
        "\n",
        "  name_of_settlement = re.sub(\"[^а-я]\", \"\", name_of_settlement)\n",
        "  # universal_name = ''\n",
        "  # for i in name_of_settlement:\n",
        "  #   if ord('a')<=ord(i)<=ord('z'):\n",
        "  #     universal_name+=char(ord[i]-(ord(a)))\n",
        "  return name_of_settlement"
      ],
      "metadata": {
        "id": "7_DDPV37lr7Z"
      },
      "execution_count": 95,
      "outputs": []
    },
    {
      "cell_type": "code",
      "source": [
        "universal('СаНкт - ПитерБУргAasf')"
      ],
      "metadata": {
        "colab": {
          "base_uri": "https://localhost:8080/",
          "height": 36
        },
        "id": "hk1ifcIklsMH",
        "outputId": "2f9cd83c-8396-4b34-cc94-35db9a25d661"
      },
      "execution_count": 96,
      "outputs": [
        {
          "output_type": "execute_result",
          "data": {
            "text/plain": [
              "'санктпитербург'"
            ],
            "application/vnd.google.colaboratory.intrinsic+json": {
              "type": "string"
            }
          },
          "metadata": {},
          "execution_count": 96
        }
      ]
    },
    {
      "cell_type": "markdown",
      "source": [
        "Как мы видим, тут есть множество повторов, уберем их(тем самым просто упростим задачу), однако если посмотреть на Москву, то она делится на муниципалитеты, и поэтому при объединение нам нужно соединить все популяции в одну строку "
      ],
      "metadata": {
        "id": "jH6_Rdh1ufWJ"
      }
    },
    {
      "cell_type": "code",
      "source": [
        "print(df_settlements[df_settlements['settlement']=='Москва'])"
      ],
      "metadata": {
        "colab": {
          "base_uri": "https://localhost:8080/"
        },
        "id": "G0OtmTrfu2p0",
        "outputId": "f4d3302b-476d-4737-f449-838d1b5ecf02"
      },
      "execution_count": 97,
      "outputs": [
        {
          "output_type": "stream",
          "name": "stdout",
          "text": [
            "Empty DataFrame\n",
            "Columns: [settlement, type, population]\n",
            "Index: []\n"
          ]
        }
      ]
    },
    {
      "cell_type": "code",
      "source": [
        "df_settlements = df_settlements.groupby('settlement',as_index=False,observed = True).sum()"
      ],
      "metadata": {
        "id": "jt1s-DCQv3QH"
      },
      "execution_count": 98,
      "outputs": []
    },
    {
      "cell_type": "code",
      "source": [
        "dfcitys= df_settlements['settlement']"
      ],
      "metadata": {
        "id": "cJ2ZwDaOqAAV"
      },
      "execution_count": 99,
      "outputs": []
    },
    {
      "cell_type": "markdown",
      "source": [
        "### Сделаем из нашего датасета саму сумку слов, для этого используем словарь"
      ],
      "metadata": {
        "id": "jG4uE2RWVyrn"
      }
    },
    {
      "cell_type": "code",
      "source": [
        "COUNTS = {}\n",
        "SUM_OF_ALL = 0\n",
        "for i in range(0,len(df_settlements['settlement'])):\n",
        "  COUNTS[df_settlements.iloc[i]['settlement']] = []\n",
        "  COUNTS[df_settlements.iloc[i]['settlement']].append(df_settlements.iloc[i]['population'])\n",
        "  SUM_OF_ALL += df_settlements.iloc[i]['population']\n",
        "  # print(COUNTS)\n",
        "  # print(type(int(a)))\n",
        "\n"
      ],
      "metadata": {
        "id": "xFLMghxilsbQ"
      },
      "execution_count": 100,
      "outputs": []
    },
    {
      "cell_type": "markdown",
      "source": [
        "Также посчитаем количество слов в котором встречается каждая из букв из алфавита, для теоремы байеса"
      ],
      "metadata": {
        "id": "8GyM6x_wccIE"
      }
    },
    {
      "cell_type": "code",
      "source": [
        "alf = ('абвгдеёжзийклмнопрстуфхцчшщъыьэюя')\n",
        "print(len(alf))\n",
        "alf_in_words = {}\n",
        "for j in alf:\n",
        "  count = 0\n",
        "  for i in range(0,len(df_settlements['settlement'])):\n",
        "    if j in df_settlements.iloc[i]['settlement']:\n",
        "      count+=1\n",
        "  alf_in_words[j] = count\n",
        "print(alf_in_words)"
      ],
      "metadata": {
        "colab": {
          "base_uri": "https://localhost:8080/"
        },
        "id": "wkOm6iLbcbbi",
        "outputId": "ba4c0507-721a-4f00-b187-c5c8a8d28155"
      },
      "execution_count": 108,
      "outputs": [
        {
          "output_type": "stream",
          "name": "stdout",
          "text": [
            "33\n",
            "{'а': 42532, 'б': 13101, 'в': 33371, 'г': 10501, 'д': 11568, 'е': 32529, 'ё': 0, 'ж': 4407, 'з': 7401, 'и': 33660, 'й': 9417, 'к': 36641, 'л': 26588, 'м': 14588, 'н': 35303, 'о': 46480, 'п': 10178, 'р': 31872, 'с': 24079, 'т': 18857, 'у': 17278, 'ф': 1317, 'х': 7918, 'ц': 4115, 'ч': 7773, 'ш': 9991, 'щ': 1701, 'ъ': 189, 'ы': 10731, 'ь': 9291, 'э': 345, 'ю': 2480, 'я': 12223}\n"
          ]
        }
      ]
    },
    {
      "cell_type": "markdown",
      "source": [
        "Я забыл назвать его с большой буквы, поэтому что не запускать это заново(а оно долго) я перепишу просто в новой ячейке"
      ],
      "metadata": {
        "id": "ydo5Yc5tfYlU"
      }
    },
    {
      "cell_type": "code",
      "source": [
        "ALF_IN_WORDS = alf_in_words"
      ],
      "metadata": {
        "id": "Swzm-QrnfYYZ"
      },
      "execution_count": 102,
      "outputs": []
    },
    {
      "cell_type": "code",
      "source": [
        "print(ALF_IN_WORDS)"
      ],
      "metadata": {
        "colab": {
          "base_uri": "https://localhost:8080/"
        },
        "id": "cBUY96gnk75s",
        "outputId": "9ba3c87d-b008-40d7-a7e3-c02ff055406b"
      },
      "execution_count": 109,
      "outputs": [
        {
          "output_type": "stream",
          "name": "stdout",
          "text": [
            "{'а': 42532, 'б': 13101, 'в': 33371, 'г': 10501, 'д': 11568, 'е': 32529, 'ё': 0, 'ж': 4407, 'з': 7401, 'и': 33660, 'й': 9417, 'к': 36641, 'л': 26588, 'м': 14588, 'н': 35303, 'о': 46480, 'п': 10178, 'р': 31872, 'с': 24079, 'т': 18857, 'у': 17278, 'ф': 1317, 'х': 7918, 'ц': 4115, 'ч': 7773, 'ш': 9991, 'щ': 1701, 'ъ': 189, 'ы': 10731, 'ь': 9291, 'э': 345, 'ю': 2480, 'я': 12223}\n"
          ]
        }
      ]
    },
    {
      "cell_type": "code",
      "source": [
        "SUM_OF_ALL_IN = 0\n",
        "for i in ALF_IN_WORDS:\n",
        "  SUM_OF_ALL_IN += ALF_IN_WORDS[i]\n",
        "print(SUM_OF_ALL_IN)"
      ],
      "metadata": {
        "colab": {
          "base_uri": "https://localhost:8080/"
        },
        "id": "BxAivuQVkbmZ",
        "outputId": "30eed516-68ad-4bb1-8750-8133982e2d78"
      },
      "execution_count": 104,
      "outputs": [
        {
          "output_type": "stream",
          "name": "stdout",
          "text": [
            "528425\n"
          ]
        }
      ]
    },
    {
      "cell_type": "markdown",
      "source": [
        "### Предсказывать будем с помощью гениальной идеи будем каждое название  разбивать на буквы, и смотреть условную вероятность того, что буквы записанного слова, подходят под это слово"
      ],
      "metadata": {
        "id": "r8t9_gRnEDU0"
      }
    },
    {
      "cell_type": "code",
      "source": [
        "for words in COUNTS:\n",
        "  COUNTS[words].append(Counter(words).most_common())\n",
        "print(COUNTS['ардон'][0])"
      ],
      "metadata": {
        "id": "4eHOfDEDNy4z",
        "colab": {
          "base_uri": "https://localhost:8080/"
        },
        "outputId": "0101e707-833f-4196-a0f3-2392b69bbf2a"
      },
      "execution_count": 105,
      "outputs": [
        {
          "output_type": "stream",
          "name": "stdout",
          "text": [
            "19412\n"
          ]
        }
      ]
    },
    {
      "cell_type": "code",
      "source": [
        "print(type(COUNTS['ардон'][1][1]))"
      ],
      "metadata": {
        "colab": {
          "base_uri": "https://localhost:8080/"
        },
        "id": "Luf8Dw3qjK2i",
        "outputId": "bdc0a828-f446-41b7-e591-099f22e61a1e"
      },
      "execution_count": 106,
      "outputs": [
        {
          "output_type": "stream",
          "name": "stdout",
          "text": [
            "<class 'tuple'>\n"
          ]
        }
      ]
    },
    {
      "cell_type": "code",
      "source": [
        "def pword(letters,word):\n",
        "  variants = {}\n",
        "  for words in COUNTS:\n",
        "    candidate_word = words\n",
        "    letters_of_candidate_word = COUNTS[words][1]\n",
        "    pb = COUNTS[words][0]/SUM_OF_ALL\n",
        "    pa_b = 1\n",
        "    sum_of_p = 0\n",
        "    kolv = 1\n",
        "    if pb >0.5:\n",
        "      print(pb)\n",
        "    for letter in letters:\n",
        "      let = letter[0]\n",
        "      if let not in words:\n",
        "        pa_b = 0\n",
        "      pa = ALF_IN_WORDS[let]/SUM_OF_ALL_IN\n",
        "      #pa = 1/33\n",
        "      #print(let)\n",
        "      pbayes = pb*pa_b/(pa)\n",
        "      sum_of_p+=pbayes\n",
        "      kolv+=1\n",
        "      #print(sum_of_p)\n",
        "    if sum_of_p >= 0.5:\n",
        "      print(sum_of_p,pbayes,pa,pb,pa_b,let)\n",
        "      variants[candidate_word] = sum_of_p/kolv\n",
        "  return variants"
      ],
      "metadata": {
        "id": "qDlwaT2K0kPu"
      },
      "execution_count": 205,
      "outputs": []
    },
    {
      "cell_type": "code",
      "source": [
        "def all_system(word):\n",
        "  word = universal(word)\n",
        "  letters = Counter(word).most_common()\n",
        "  varients = pword(letters,word)\n",
        "  print(varients)\n",
        "      "
      ],
      "metadata": {
        "id": "bRaKGIQ3T_ca"
      },
      "execution_count": 206,
      "outputs": []
    },
    {
      "cell_type": "markdown",
      "source": [
        "### Тестировка"
      ],
      "metadata": {
        "id": "QRGbOYmiT_7r"
      }
    },
    {
      "cell_type": "code",
      "source": [
        "all_system('Владикавказ')"
      ],
      "metadata": {
        "id": "T86jfref5cI7",
        "colab": {
          "base_uri": "https://localhost:8080/"
        },
        "outputId": "1756293f-72aa-42f8-bb2c-56086e75bcdf"
      },
      "execution_count": 207,
      "outputs": [
        {
          "output_type": "stream",
          "name": "stdout",
          "text": [
            "0.5315086668571793 0.0 0.014005771869234044 0.004288640165103792 0 з\n",
            "3.579501252761463 0.0 0.014005771869234044 0.08386694196881235 0 з\n",
            "{'владивосток': 0.06643858335714742, 'москва': 0.44743765659518286}\n"
          ]
        }
      ]
    },
    {
      "cell_type": "code",
      "source": [
        "all_system('Санкт-питербург')"
      ],
      "metadata": {
        "colab": {
          "base_uri": "https://localhost:8080/"
        },
        "id": "Qua7cOAUULdl",
        "outputId": "7f2badbd-a043-4114-a8f3-e6515d016c8f"
      },
      "execution_count": 208,
      "outputs": [
        {
          "output_type": "stream",
          "name": "stdout",
          "text": [
            "0.716086789536075 0.0 0.019872261910394096 0.007622788253948231 0 г\n",
            "5.673744033799281 0.0 0.019872261910394096 0.03539888363072813 0 г\n",
            "{'ростовнадону': 0.05508359919508269, 'санктпетербург': 0.43644184875379083}\n"
          ]
        }
      ]
    },
    {
      "cell_type": "code",
      "source": [
        "all_system('Ногир')"
      ],
      "metadata": {
        "colab": {
          "base_uri": "https://localhost:8080/"
        },
        "id": "NPQprD24uQbL",
        "outputId": "a0706686-cfa9-4c15-c0bc-9cd6d0c9019c"
      },
      "execution_count": 209,
      "outputs": [
        {
          "output_type": "stream",
          "name": "stdout",
          "text": [
            "0.942025656637439 0.14337096042014666 0.060315087287694566 0.008647431992261749 1 р\n",
            "0.5298602125192621 0.0 0.060315087287694566 0.03539888363072813 0 р\n",
            "{'нижнийновгород': 0.15700427610623982, 'санктпетербург': 0.08831003541987702}\n"
          ]
        }
      ]
    },
    {
      "cell_type": "code",
      "source": [
        "all_system('Новосибирск')"
      ],
      "metadata": {
        "colab": {
          "base_uri": "https://localhost:8080/"
        },
        "id": "y7lCornTu13t",
        "outputId": "96e24eb7-e5e2-452c-8daa-9f554bd404f9"
      },
      "execution_count": 210,
      "outputs": [
        {
          "output_type": "stream",
          "name": "stdout",
          "text": [
            "2.7939717765614263 0.0 0.06934001987036949 0.08386694196881235 0 к\n",
            "1.656722818234817 0.15807054355440642 0.06934001987036949 0.010960614630982647 1 к\n",
            "{'москва': 0.31044130850682516, 'новосибирск': 0.18408031313720188}\n"
          ]
        }
      ]
    },
    {
      "cell_type": "code",
      "source": [
        "all_system('Ростов')"
      ],
      "metadata": {
        "colab": {
          "base_uri": "https://localhost:8080/"
        },
        "id": "qsp5AuiGu82i",
        "outputId": "aedcb7c9-995c-493f-8ec7-c6c35ea1088e"
      },
      "execution_count": 211,
      "outputs": [
        {
          "output_type": "stream",
          "name": "stdout",
          "text": [
            "0.9534722205221529 0.0 0.0631518190850168 0.08386694196881235 0 в\n",
            "0.5468682392968707 0.0 0.0631518190850168 0.010960614630982647 0 в\n",
            "0.7146481830351522 0.12070575898512462 0.0631518190850168 0.007622788253948231 1 в\n",
            "0.5339607273917515 0.09018722274551742 0.0631518190850168 0.005695487174605028 1 в\n",
            "{'москва': 0.15891203675369214, 'новосибирск': 0.09114470654947844, 'ростовнадону': 0.1191080305058587, 'саратов': 0.08899345456529191}\n"
          ]
        }
      ]
    },
    {
      "cell_type": "code",
      "source": [
        "all_system('Владивосток')"
      ],
      "metadata": {
        "colab": {
          "base_uri": "https://localhost:8080/"
        },
        "id": "Ak9JQLkCvAqp",
        "outputId": "33529aba-caa4-4aed-ccc0-95304974f8fb"
      },
      "execution_count": 212,
      "outputs": [
        {
          "output_type": "stream",
          "name": "stdout",
          "text": [
            "0.7945613731847198 0.06184942221131988 0.06934001987036949 0.004288640165103792 1 к\n",
            "0.7341667031923053 0.0 0.06934001987036949 0.006979941346138455 0 к\n",
            "2.2814932210876036 0.0 0.06934001987036949 0.08386694196881235 0 к\n",
            "{'владивосток': 0.07945613731847198, 'волгоград': 0.07341667031923052, 'москва': 0.22814932210876035}\n"
          ]
        }
      ]
    },
    {
      "cell_type": "markdown",
      "source": [
        "# Выводы\n",
        "👽 Все оказалось куда круче, чем я себе в голове представлял\n",
        "\n",
        "Ну на самом деле все вышло не очень, такая модель никогда работать не будет, нужно было пересчитывать вероятности взависимости от порядка букв, или может еще какие еще решения, но мне понравилось, было весело, ну и я горжусь тем, что в популярные города он хотя бы добавляет их в варианты, что есть круто"
      ],
      "metadata": {
        "id": "ta9b80lgtziE"
      }
    }
  ]
}